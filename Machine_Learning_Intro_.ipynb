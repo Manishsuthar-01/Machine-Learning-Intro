{
  "nbformat": 4,
  "nbformat_minor": 0,
  "metadata": {
    "colab": {
      "provenance": [],
      "authorship_tag": "ABX9TyOOyAhPJmBcdY1a1v10RIk9",
      "include_colab_link": true
    },
    "kernelspec": {
      "name": "python3",
      "display_name": "Python 3"
    },
    "language_info": {
      "name": "python"
    }
  },
  "cells": [
    {
      "cell_type": "markdown",
      "metadata": {
        "id": "view-in-github",
        "colab_type": "text"
      },
      "source": [
        "<a href=\"https://colab.research.google.com/github/Manishsuthar-01/Machine-Learning-Intro/blob/main/Machine_Learning_Intro_.ipynb\" target=\"_parent\"><img src=\"https://colab.research.google.com/assets/colab-badge.svg\" alt=\"Open In Colab\"/></a>"
      ]
    },
    {
      "cell_type": "markdown",
      "source": [
        "**1. Explain the differences between AI, ML, Deep Learning (DL), and Data\n",
        "Science (DS).**\n",
        ">**Artificial Intelligence (AI)**\n",
        "\n",
        ">>**Definition:** The broadest field; it refers to the development of computer systems that can perform tasks normally requiring human intelligence.\n",
        "\n",
        ">>**Goals:** To simulate human cognitive functions like reasoning, problem-solving, learning, perception, and language understanding.\n",
        "\n",
        ">>**Examples:** Chatbots, self-driving cars, recommendation systems, facial recognition.\n",
        "\n",
        ">Think of AI as the overarching umbrella under which ML and DL fall.\n",
        "\n",
        ">**Machine Learning (ML)**\n",
        "\n",
        ">>**Definition:** A subfield of AI that focuses on algorithms that allow computers to learn from data and improve from experience without being explicitly programmed.\n",
        "\n",
        ">>**Key Feature:** It finds patterns in data and uses those patterns to make predictions or decisions.\n",
        "\n",
        ">>**Types:**\n",
        "\n",
        ">>>Supervised Learning (e.g., classification, regression)\n",
        "\n",
        ">>>Unsupervised Learning (e.g., clustering, dimensionality reduction)\n",
        "\n",
        ">>>Reinforcement Learning (e.g., game-playing agents)\n",
        "\n",
        ">>ML is a subset of AI that handles learning from data.\n",
        "\n",
        ">**Deep Learning (DL)**\n",
        "\n",
        ">>**Definition:** A subset of ML that uses neural networks with many layers (hence \"deep\") to analyze data in complex ways.\n",
        "\n",
        ">>**Strength:** Particularly good at handling unstructured data (like images, audio, text).\n",
        "\n",
        ">>**Examples:**\n",
        "\n",
        ">>>Image recognition\n",
        "\n",
        ">>>Natural language processing (NLP)\n",
        "\n",
        ">>>Voice assistants\n",
        "\n",
        ">>DL is a subset of ML, often requiring large amounts of data and computing power.\n",
        "\n",
        ">**Data Science (DS)**\n",
        "\n",
        ">>**Definition:** An interdisciplinary field that uses statistics, ML, data analysis, and domain knowledge to extract insights from data.\n",
        "\n",
        ">>**Tools:** Includes data wrangling, visualization, modeling, and storytelling.\n",
        "\n",
        ">>**Purpose:** To turn raw data into actionable insights or predictions.\n",
        "\n",
        ">>**Roles:** Data scientists use both ML and traditional statistical methods."
      ],
      "metadata": {
        "id": "8dg7q3bY5zt6"
      }
    },
    {
      "cell_type": "markdown",
      "source": [
        "**2. What are the types of machine learning? Describe each with one\n",
        "real-world example.**\n",
        ">**Supervised Learning**\n",
        "\n",
        ">>**Definition:** The algorithm learns from labeled data—data that already has the correct answers (output) provided.\n",
        "\n",
        ">>**Goal:** Learn a mapping from inputs to known outputs to make predictions on new, unseen data.\n",
        "\n",
        ">>**Example:**\n",
        "\n",
        ">>**Email Spam Detection**\n",
        "\n",
        ">>>**Input:** Features like email content, sender, and subject line\n",
        "\n",
        ">>>**Output:** \"Spam\" or \"Not Spam\"\n",
        "\n",
        ">>>The model is trained on thousands of emails already labeled as spam or not spam, then it learns to classify new emails accordingly.\n",
        "\n",
        ">**Unsupervised Learning**\n",
        "\n",
        ">>**Definition**: The algorithm works with unlabeled data, trying to discover hidden patterns or structures within it.\n",
        "\n",
        ">>**Goal:** Group or organize the data based on similarities without predefined labels.\n",
        "\n",
        ">>**Example:**\n",
        "\n",
        ">>**Customer Segmentation**\n",
        "\n",
        ">>>A company uses data like age, spending habits, and browsing history to group customers into different segments for targeted marketing—without knowing the \"correct\" groups in advance.\n",
        "\n",
        ">**Reinforcement Learning**\n",
        "\n",
        ">>**Definition:** The algorithm learns by interacting with an environment, making decisions, and receiving rewards or penalties based on its actions.\n",
        "\n",
        ">>**Goal:** Learn a policy that maximizes cumulative rewards over time.\n",
        "\n",
        ">>**Example:**\n",
        "\n",
        ">>**Self-Driving Cars**\n",
        "\n",
        ">>>The car learns how to drive by trial and error—steering, braking, accelerating—while receiving feedback (e.g., positive reward for staying in lane, penalty for collisions)."
      ],
      "metadata": {
        "id": "_OCdxjxv6rZn"
      }
    },
    {
      "cell_type": "markdown",
      "source": [
        "**3. Define overfitting, underfitting, and the bias-variance tradeoff in machine\n",
        "learning.**\n",
        ">**Overfitting**\n",
        "\n",
        ">>**Definition:** When a model learns too much from the training data, including noise and irrelevant details.\n",
        "\n",
        ">>**Result:** It performs very well on training data but poorly on new, unseen data.\n",
        "\n",
        ">>**Cause:** Model is too complex for the amount or quality of data.\n",
        "\n",
        ">>**Example:**\n",
        "\n",
        ">>>A model trained to recognize cats memorizes every training image’s details (like background color or shadow), so it fails to generalize to new cat images with different lighting.\n",
        "\n",
        ">**Underfitting**\n",
        "\n",
        ">>**Definition:** When a model is too simple to capture the underlying patterns in the data.\n",
        "\n",
        ">>**Result:** It performs poorly on both training and test data.\n",
        "\n",
        ">>**Cause:** Using a model that’s not powerful enough or not trained long enough.\n",
        "\n",
        ">>**Example:**\n",
        "\n",
        ">>>Trying to fit a straight line to complex, curved data. The line misses important trends and can't capture the relationship.\n",
        "\n",
        ">**Bias-Variance Tradeoff**\n",
        "\n",
        ">>**Definition:** A fundamental tradeoff in ML between two types of errors that affect model performance:\n",
        "\n",
        ">>>**Bias:** Error from wrong assumptions in the learning algorithm (e.g., assuming data is linear when it’s not)\n",
        "\n",
        ">>>**Variance:** Error from sensitivity to small fluctuations in the training data (overly complex models)\n",
        "\n",
        ">**The Tradeoff:**\n",
        "\n",
        ">>High Bias → Underfitting\n",
        "\n",
        ">>High Variance → Overfitting\n",
        "\n",
        ">The goal is to find the right balance:\n",
        "\n",
        ">>Not too simple (low bias)\n",
        "\n",
        ">>Not too complex (low variance)"
      ],
      "metadata": {
        "id": "ZFbw80uL7i0t"
      }
    },
    {
      "cell_type": "markdown",
      "source": [
        "**4. What are outliers in a dataset, and list three common techniques for\n",
        "handling them.**\n",
        ">Outliers are data points that significantly differ from the rest of the data.\n",
        "They can be much higher or lower than the typical values and may:\n",
        "\n",
        ">>Indicate data entry errors or measurement mistakes,\n",
        "\n",
        ">>Represent rare but valid events, or\n",
        "\n",
        ">>Skew the results of statistical analyses or machine learning models.\n",
        "\n",
        ">>**Example:**\n",
        "\n",
        ">>>In a dataset of students' test scores (out of 100), if most scores range between 60 and 90, a score of 5 or 100 might be considered an outlier.\n",
        "\n",
        ">**Three Common Techniques for Handling Outliers**\n",
        "\n",
        ">**Removal**\n",
        "\n",
        ">>**Description:** Simply delete the outlier rows if they are errors or not relevant.\n",
        "\n",
        ">>**When to Use:** When you’re confident the outliers are mistakes or anomalies that do not represent valid data.\n",
        "\n",
        ">>**Caution:** Don’t remove valid rare events unless justified.\n",
        "\n",
        ">>>**Example:**\n",
        "\n",
        ">>>Removing a temperature reading of 500°C when measuring room temperature data.\n",
        "\n",
        ">**Transformation or Capping (Winsorizing)**\n",
        "\n",
        ">>**Description:** Replace extreme values with a specific percentile value (e.g., 1st or 99th percentile).\n",
        "\n",
        ">>**When to Use:** When you want to reduce the influence of outliers but not remove them entirely.\n",
        "\n",
        ">>>**Example:**\n",
        "\n",
        ">>>Cap incomes above the 99th percentile in a housing price model to reduce their skewing effect.\n",
        "\n",
        ">**Imputation**\n",
        "\n",
        ">>**Description:** Replace the outlier with a more typical value (like the mean, median, or mode).\n",
        "\n",
        ">>**When to Use:** If the outlier is likely an error or missing value, and you want to preserve the data row.\n",
        "\n",
        ">>>**Example:**\n",
        "\n",
        ">>>Replace a student's score of 300 (out of 100) with the median score."
      ],
      "metadata": {
        "id": "Ml1r3T3G8hYt"
      }
    },
    {
      "cell_type": "markdown",
      "source": [
        "**5. Explain the process of handling missing values and mention one\n",
        "imputation technique for numerical and one for categorical data.**\n",
        ">**General Process of Handling Missing Values**\n",
        "\n",
        ">**Identify Missing Values**\n",
        "\n",
        ">>Use methods like .isnull() (in Python/Pandas) to detect where values are missing.\n",
        "\n",
        ">**Analyze the Pattern**\n",
        "\n",
        ">>**Determine:**\n",
        "\n",
        ">>>How much data is missing?\n",
        "\n",
        ">>>Is it missing randomly or systematically?\n",
        "\n",
        ">>>Which columns are affected?\n",
        "\n",
        ">**Decide on a Strategy**\n",
        "\n",
        ">Choose one of the following based on the context:\n",
        "\n",
        ">>Remove rows or columns with too many missing values.\n",
        "\n",
        ">>Fill (impute) missing values using appropriate techniques.\n",
        "\n",
        ">>Use ML models that can handle missing data (e.g., XGBoost).\n",
        "\n",
        ">**Apply the Strategy**\n",
        "\n",
        ">>Implement the chosen method (e.g., drop, fill, or model-based imputation).\n",
        "\n",
        ">**Validate Results**\n",
        "\n",
        ">>Check if data distribution and model performance have changed after handling missing data.\n",
        "\n",
        ">**Imputation Techniques**\n",
        "\n",
        ">**For Numerical Data:**\n",
        "\n",
        ">>**Mean Imputation**\n",
        "\n",
        ">>**Description:** Replace missing values with the mean of the non-missing values in the column.\n",
        "\n",
        ">>**Use Case:** When the data is roughly normally distributed and not skewed.\n",
        "\n",
        ">**For Categorical Data:**\n",
        "\n",
        ">>**Mode Imputation**\n",
        "\n",
        ">>**Description:** Replace missing values with the most frequent category (mode).\n",
        "\n",
        ">>**Use Case:** When one category dominates the column."
      ],
      "metadata": {
        "id": "1RqYbeRB9d6Z"
      }
    },
    {
      "cell_type": "markdown",
      "source": [
        "**6. Write a Python program that:**\n",
        "\n",
        ">**● Creates a synthetic imbalanced dataset with make_classification() from\n",
        "sklearn.datasets.**\n",
        "\n",
        ">**● Prints the class distribution.**\n",
        "\n",
        "\n"
      ],
      "metadata": {
        "id": "ouyeCBaH_XVj"
      }
    },
    {
      "cell_type": "code",
      "source": [
        "from sklearn.datasets import make_classification\n",
        "from collections import Counter\n",
        "\n",
        "# Step 1: Create synthetic imbalanced dataset\n",
        "X, y = make_classification(n_samples=1000,       # Total number of samples\n",
        "                           n_features=20,        # Number of features\n",
        "                           n_informative=2,      # Number of informative features\n",
        "                           n_redundant=10,       # Number of redundant features\n",
        "                           n_classes=2,          # Binary classification\n",
        "                           weights=[0.9, 0.1],   # Class imbalance (90% of class 0, 10% of class 1)\n",
        "                           flip_y=0,             # No noise\n",
        "                           random_state=42)      # Reproducibility\n",
        "\n",
        "# Step 2: Print class distribution\n",
        "counter = Counter(y)\n",
        "print(\"Class distribution:\")\n",
        "for label, count in counter.items():\n",
        "    print(f\"Class {label}: {count} samples\")\n"
      ],
      "metadata": {
        "colab": {
          "base_uri": "https://localhost:8080/"
        },
        "id": "9ox7zcTd_l29",
        "outputId": "38db2276-d684-4bf9-d5c3-8a186700c68e"
      },
      "execution_count": null,
      "outputs": [
        {
          "output_type": "stream",
          "name": "stdout",
          "text": [
            "Class distribution:\n",
            "Class 0: 900 samples\n",
            "Class 1: 100 samples\n"
          ]
        }
      ]
    },
    {
      "cell_type": "markdown",
      "source": [
        "**7. Implement one-hot encoding using pandas for the following list of colors:\n",
        "['Red', 'Green', 'Blue', 'Green', 'Red']. Print the resulting dataframe.**"
      ],
      "metadata": {
        "id": "OSvQPN0i_uqd"
      }
    },
    {
      "cell_type": "code",
      "source": [
        "import pandas as pd\n",
        "\n",
        "# Original list of colors\n",
        "colors = ['Red', 'Green', 'Blue', 'Green', 'Red']\n",
        "\n",
        "# Convert the list to a DataFrame\n",
        "df = pd.DataFrame({'Color': colors})\n",
        "\n",
        "# Apply one-hot encoding\n",
        "one_hot_df = pd.get_dummies(df, columns=['Color'],dtype=int)\n",
        "\n",
        "# Print the resulting DataFrame\n",
        "print(one_hot_df)\n"
      ],
      "metadata": {
        "colab": {
          "base_uri": "https://localhost:8080/"
        },
        "id": "S4tebYCT__pz",
        "outputId": "ce422a22-2f45-4005-a529-adc4ec8d3420"
      },
      "execution_count": null,
      "outputs": [
        {
          "output_type": "stream",
          "name": "stdout",
          "text": [
            "   Color_Blue  Color_Green  Color_Red\n",
            "0           0            0          1\n",
            "1           0            1          0\n",
            "2           1            0          0\n",
            "3           0            1          0\n",
            "4           0            0          1\n"
          ]
        }
      ]
    },
    {
      "cell_type": "markdown",
      "source": [
        "**8. Write a Python script to:**\n",
        "\n",
        "**● Generate 1000 samples from a normal distribution.**\n",
        "\n",
        "**● Introduce 50 random missing values.**\n",
        "\n",
        "**● Fill missing values with the column mean.**\n",
        "\n",
        "**● Plot a histogram before and after imputation.**"
      ],
      "metadata": {
        "id": "HZEqSAICA-ya"
      }
    },
    {
      "cell_type": "code",
      "source": [
        "import numpy as np\n",
        "import pandas as pd\n",
        "import matplotlib.pyplot as plt\n",
        "\n",
        "# Step 1: Generate 1000 samples from a normal distribution\n",
        "np.random.seed(42)  # For reproducibility\n",
        "data = np.random.normal(loc=0, scale=1, size=1000)\n",
        "\n",
        "# Convert to DataFrame for easier handling\n",
        "df = pd.DataFrame(data, columns=['Value'])\n",
        "\n",
        "# Step 2: Introduce 50 random missing values\n",
        "missing_indices = np.random.choice(df.index, size=50, replace=False)\n",
        "df.loc[missing_indices, 'Value'] = np.nan\n",
        "\n",
        "# Plot histogram before imputation\n",
        "plt.figure(figsize=(12, 5))\n",
        "\n",
        "plt.subplot(1, 2, 1)\n",
        "plt.hist(df['Value'].dropna(), bins=30, color='skyblue', edgecolor='black')\n",
        "plt.title('Histogram Before Imputation')\n",
        "plt.xlabel('Value')\n",
        "plt.ylabel('Frequency')\n",
        "\n",
        "# Step 3: Fill missing values with column mean\n",
        "mean_value = df['Value'].mean()\n",
        "df['Value'].fillna(mean_value, inplace=True)\n",
        "\n",
        "# Plot histogram after imputation\n",
        "plt.subplot(1, 2, 2)\n",
        "plt.hist(df['Value'], bins=30, color='orange', edgecolor='black')\n",
        "plt.title('Histogram After Imputation')\n",
        "plt.xlabel('Value')\n",
        "plt.ylabel('Frequency')\n",
        "\n",
        "plt.tight_layout()\n",
        "plt.show()\n"
      ],
      "metadata": {
        "colab": {
          "base_uri": "https://localhost:8080/",
          "height": 629
        },
        "id": "h3QnsUe-BKMZ",
        "outputId": "66b2bcb3-b418-4f66-c82e-c73b88ca7d66"
      },
      "execution_count": null,
      "outputs": [
        {
          "output_type": "stream",
          "name": "stderr",
          "text": [
            "/tmp/ipython-input-1329073020.py:27: FutureWarning: A value is trying to be set on a copy of a DataFrame or Series through chained assignment using an inplace method.\n",
            "The behavior will change in pandas 3.0. This inplace method will never work because the intermediate object on which we are setting values always behaves as a copy.\n",
            "\n",
            "For example, when doing 'df[col].method(value, inplace=True)', try using 'df.method({col: value}, inplace=True)' or df[col] = df[col].method(value) instead, to perform the operation inplace on the original object.\n",
            "\n",
            "\n",
            "  df['Value'].fillna(mean_value, inplace=True)\n"
          ]
        },
        {
          "output_type": "display_data",
          "data": {
            "text/plain": [
              "<Figure size 1200x500 with 2 Axes>"
            ],
            "image/png": "[encoded data removed]"
          },
          "metadata": {}
        }
      ]
    },
    {
      "cell_type": "markdown",
      "source": [
        "**9. Implement Min-Max scaling on the following list of numbers [2, 5, 10, 15,\n",
        "20] using sklearn.preprocessing.MinMaxScaler. Print the scaled array.**\n"
      ],
      "metadata": {
        "id": "6jr8fx11BStp"
      }
    },
    {
      "cell_type": "code",
      "source": [
        "from sklearn.preprocessing import MinMaxScaler\n",
        "import numpy as np\n",
        "\n",
        "# Original list\n",
        "numbers = [2, 5, 10, 15, 20]\n",
        "\n",
        "# Convert to 2D array as required by sklearn\n",
        "data = np.array(numbers).reshape(-1, 1)\n",
        "\n",
        "# Initialize MinMaxScaler\n",
        "scaler = MinMaxScaler()\n",
        "\n",
        "# Fit and transform the data\n",
        "scaled_data = scaler.fit_transform(data)\n",
        "\n",
        "# Print the scaled array (flattened to 1D for readability)\n",
        "print(scaled_data.flatten())\n"
      ],
      "metadata": {
        "colab": {
          "base_uri": "https://localhost:8080/"
        },
        "id": "fNUBshmXBdjJ",
        "outputId": "78f5cea2-441e-403b-e90c-8a560e200063"
      },
      "execution_count": null,
      "outputs": [
        {
          "output_type": "stream",
          "name": "stdout",
          "text": [
            "[0.         0.16666667 0.44444444 0.72222222 1.        ]\n"
          ]
        }
      ]
    },
    {
      "cell_type": "markdown",
      "source": [
        "**10. You are working as a data scientist for a retail company. You receive a customer transaction dataset that contains:**\n",
        "\n",
        "**● Missing ages,**\n",
        "\n",
        "**● Outliers in transaction amount,**\n",
        "\n",
        "**● A highly imbalanced target (fraud vs. non-fraud),**\n",
        "\n",
        "**● Categorical variables like payment method.**\n",
        "\n",
        "**Explain the step-by-step data preparation plan you’d follow before training a machine learning model. Include how you’d address missing data, outliers, imbalance, and encoding.**\n",
        "\n",
        ">**Understand and Explore the Data**\n",
        "\n",
        ">>**Initial data inspection:** Check data types, summary stats, missing value patterns, distribution of target classes, and identify categorical/numerical variables.\n",
        "\n",
        ">>**Visualize:** Use histograms, boxplots, and bar charts to understand distributions, outliers, and imbalance.\n",
        "\n",
        ">**Handling Missing Data (Missing Ages)**\n",
        "\n",
        ">>**Analyze missingness pattern:** Check if missing ages are random or systematic.\n",
        "\n",
        ">>**Imputation strategy:**\n",
        "\n",
        ">>If missingness is random and small in proportion, use:\n",
        "\n",
        ">>>**Numerical imputation:** fill missing ages with median (robust to outliers) or mean.\n",
        "\n",
        ">>>Or use more advanced methods like KNN imputation or predictive modeling for age.\n",
        "\n",
        ">>If missingness is systematic (e.g., missing for certain customer groups), consider adding a missing indicator flag alongside imputation.\n",
        "\n",
        ">>Avoid dropping rows unless missing data is excessive and irreparable.\n",
        "\n",
        ">**Handling Outliers (Transaction Amount)**\n",
        "\n",
        ">Detect outliers using methods such as:\n",
        "\n",
        ">>Boxplots (IQR method)\n",
        "\n",
        ">>Z-score or Modified Z-score\n",
        "\n",
        ">>Domain knowledge thresholds (e.g., transaction amount beyond reasonable max)\n",
        "\n",
        ">**Handle outliers by:**\n",
        "\n",
        ">>**Capping (Winsorizing):** Limit extreme values to a percentile (e.g., 1st and 99th percentiles).\n",
        "\n",
        ">>**Transformation:** Apply log or Box-Cox transforms to reduce skew.\n",
        "\n",
        ">>**Separate treatment:** Flag outliers as a new feature or separate them if they carry specific info (e.g., high-value transactions).\n",
        "\n",
        ">>Avoid outright removal if they represent valid rare cases (fraud detection often involves rare but important anomalies).\n",
        "\n",
        ">**Addressing Class Imbalance (Fraud vs. Non-Fraud)**\n",
        "\n",
        ">>Check the imbalance ratio (likely very skewed towards non-fraud).\n",
        "\n",
        ">>**Techniques to handle imbalance:**\n",
        "\n",
        ">>**Resampling:**\n",
        "\n",
        ">>>**Oversampling minority class:** e.g., SMOTE (Synthetic Minority Oversampling Technique).\n",
        "\n",
        ">>>**Undersampling majority class:** Random undersampling or informed undersampling.\n",
        "\n",
        ">>>**Use algorithms that handle imbalance:** e.g., tree-based models with class weights (like XGBoost, Random Forest).\n",
        "\n",
        ">>>**Use evaluation metrics suitable for imbalance:** Precision, recall, F1-score, ROC-AUC instead of accuracy.\n",
        "\n",
        ">**Encoding Categorical Variables (Payment Method, etc.)**\n",
        "\n",
        ">Identify categorical variables.\n",
        "\n",
        ">>**Encoding methods:**\n",
        "\n",
        ">>>For nominal categories with few unique values, use One-Hot Encoding.\n",
        "\n",
        ">>>For high-cardinality categorical variables, consider:\n",
        "\n",
        ">>>Target encoding (using mean target value per category),\n",
        "\n",
        ">>>Frequency encoding,\n",
        "\n",
        ">>>Or embedding methods if using deep learning.\n",
        "\n",
        ">>Make sure to avoid dummy variable trap by dropping one dummy column if using linear models.\n",
        "\n",
        ">**Feature Scaling**\n",
        "\n",
        ">>Scale numerical features (transaction amount, age, etc.) if required by the model:\n",
        "\n",
        ">>>Use StandardScaler or MinMaxScaler depending on algorithm requirements.\n",
        "\n",
        ">>>Tree-based models typically don’t require scaling.\n",
        "\n",
        ">**Final Checks Before Modeling**\n",
        "\n",
        ">>Split the dataset into train/test (and validation) sets before imputation and encoding to avoid data leakage.\n",
        "\n",
        ">>Ensure consistent preprocessing pipelines using tools like Pipeline from sklearn.\n",
        "\n",
        ">>Validate data distributions post-processing to confirm no data leakage or information distortion."
      ],
      "metadata": {
        "id": "On0x_YOYBrdw"
      }
    }
  ]
}